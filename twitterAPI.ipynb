{
 "cells": [
  {
   "cell_type": "code",
   "execution_count": 1,
   "metadata": {
    "collapsed": true
   },
   "outputs": [],
   "source": [
    "import re\n",
    "import tweepy\n",
    "import twitter\n",
    "from tweepy import OAuthHandler\n",
    "from textblob import TextBlob"
   ]
  },
  {
   "cell_type": "code",
   "execution_count": 2,
   "metadata": {},
   "outputs": [
    {
     "name": "stdout",
     "output_type": "stream",
     "text": [
      "done\n"
     ]
    }
   ],
   "source": [
    "class TwitterClient(object):\n",
    "    # keys and tokens from the Twitter Dev Console\n",
    "    consumer_key = 'Fill-me-in'\n",
    "    consumer_secret = 'Fill-me-in'\n",
    "    access_token = 'Fill-me-in'\n",
    "    access_token_secret = 'Fill-me-in'\n",
    "    \n",
    "   \n",
    "    #api = twitter.Api(consumer_key, consumer_secret, access_token, access_token_secret)\n",
    "    auth = tweepy.OAuthHandler(consumer_key, consumer_secret)\n",
    "    auth.set_access_token(access_token, access_token_secret)\n",
    "    api = tweepy.API(auth)\n",
    "        \n",
    "    trumpsTweets = []\n",
    "    csv = open('file.csv',\"w\")  #REPLACE WITH FILE NAME\n",
    "    columnTitleRow = \"Tweet,Date,Retweets\\n\"\n",
    "    csv.write(columnTitleRow)\n",
    "   \n",
    "    for tw in tweepy.Cursor(api.user_timeline, screen_name = '@TWITTER-HANDLE').items(): #Replace twitter handle\n",
    "        text =  re.sub(r\"http\\S+\", \"\", tw._json['text'])\n",
    "        row =  \"\\\"\" + text  + \"\\\"\" + \",\" + str(tw._json['created_at'])+  \",\" + str(tw._json['retweet_count']) + \"\\n\"\n",
    "        \n",
    "        csv.write(row.encode('utf-8'))\n",
    "  \n",
    "    csv.close()"
   ]
  }
 ],
 "metadata": {
  "kernelspec": {
   "display_name": "Python 2",
   "language": "python",
   "name": "python2"
  },
  "language_info": {
   "codemirror_mode": {
    "name": "ipython",
    "version": 2
   },
   "file_extension": ".py",
   "mimetype": "text/x-python",
   "name": "python",
   "nbconvert_exporter": "python",
   "pygments_lexer": "ipython2",
   "version": "2.7.13"
  }
 },
 "nbformat": 4,
 "nbformat_minor": 2
}
