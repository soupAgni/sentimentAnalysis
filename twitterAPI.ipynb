{
 "cells": [
  {
   "cell_type": "code",
   "execution_count": 1,
   "metadata": {
    "collapsed": true
   },
   "outputs": [],
   "source": [
    "import re\n",
    "import tweepy\n",
    "import twitter\n",
    "from tweepy import OAuthHandler\n",
    "from textblob import TextBlob"
   ]
  },
  {
   "cell_type": "code",
   "execution_count": 2,
   "metadata": {},
   "outputs": [
    {
     "name": "stdout",
     "output_type": "stream",
     "text": [
      "done\n"
     ]
    }
   ],
   "source": [
    "class TwitterClient(object):\n",
    "    # keys and tokens from the Twitter Dev Console\n",
    "    consumer_key = '2bop3NHrok9D1gJzhX93DU0cP'\n",
    "    consumer_secret = 'rvXiVvjnbIJ3KCX39IOexd6eGmwuW1PYzONe3VfiaZk3aVquUb'\n",
    "    access_token = '807795854757203969-AwBfI9qnVIx8Q7mGJwf0f2KdKfn27qY'\n",
    "    access_token_secret = 'J9Ci9JEbvBpDeeaH0C8QSJJ80QrNBzhma2atsPJ69zsR1'\n",
    "    \n",
    "   \n",
    "    #api = twitter.Api(consumer_key, consumer_secret, access_token, access_token_secret)\n",
    "    auth = tweepy.OAuthHandler(consumer_key, consumer_secret)\n",
    "    auth.set_access_token(access_token, access_token_secret)\n",
    "    api = tweepy.API(auth)\n",
    "        \n",
    "    trumpsTweets = []\n",
    "    csv = open('bored_elon_data.csv',\"w\")\n",
    "    columnTitleRow = \"Tweet,Date,Retweets\\n\"\n",
    "    csv.write(columnTitleRow)\n",
    "   \n",
    "    for tw in tweepy.Cursor(api.user_timeline, screen_name = '@BoredElonMusk').items():\n",
    "        text =  re.sub(r\"http\\S+\", \"\", tw._json['text'])\n",
    "        row =  \"\\\"\" + text  + \"\\\"\" + \",\" + str(tw._json['created_at'])+  \",\" + str(tw._json['retweet_count']) + \"\\n\"\n",
    "        \n",
    "        csv.write(row.encode('utf-8'))\n",
    "  \n",
    "    csv.close()\n",
    "    print \"done\""
   ]
  }
 ],
 "metadata": {
  "kernelspec": {
   "display_name": "Python 2",
   "language": "python",
   "name": "python2"
  },
  "language_info": {
   "codemirror_mode": {
    "name": "ipython",
    "version": 2
   },
   "file_extension": ".py",
   "mimetype": "text/x-python",
   "name": "python",
   "nbconvert_exporter": "python",
   "pygments_lexer": "ipython2",
   "version": "2.7.13"
  }
 },
 "nbformat": 4,
 "nbformat_minor": 2
}
