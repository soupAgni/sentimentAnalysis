{
 "cells": [
  {
   "cell_type": "markdown",
   "metadata": {},
   "source": [
    "# Trump vs. Drumpf, Elon vs. Bored Elon Musk\n",
    "### Classifying Tweets Using Natural Language Processing    \n",
    "[Donald Trump](https://twitter.com/realDonaldTrump)  \n",
    "[Donald Drumpf](https://twitter.com/RealDonalDrumpf?ref_src=twsrc%5Egoogle%7Ctwcamp%5Eserp%7Ctwgr%5Eauthor)    \n",
    "[Bored Elon Musk](https://twitter.com/boredelonmusk?lang=en)  \n",
    "[Elon Musk](https://twitter.com/elonmusk?ref_src=twsrc%5Egoogle%7Ctwcamp%5Eserp%7Ctwgr%5Eauthor)  "
   ]
  },
  {
   "cell_type": "markdown",
   "metadata": {},
   "source": [
    "### Setup"
   ]
  },
  {
   "cell_type": "code",
   "execution_count": 16,
   "metadata": {
    "collapsed": true
   },
   "outputs": [],
   "source": [
    "import pandas as pd\n",
    "import numpy as np\n",
    "from sklearn.feature_extraction.text import CountVectorizer"
   ]
  },
  {
   "cell_type": "markdown",
   "metadata": {},
   "source": [
    "### Read in data and preview"
   ]
  },
  {
   "cell_type": "code",
   "execution_count": 9,
   "metadata": {
    "collapsed": true
   },
   "outputs": [],
   "source": [
    "#dataframe to store legitimate tweets\n",
    "elon = pd.read_csv('elon_data.csv',parse_dates=[0], infer_datetime_format=True)\n",
    "\n",
    "#dataframe to store fake account tweets\n",
    "bored_elon = pd.read_csv('bored_elon_data.csv',parse_dates=[0], infer_datetime_format=True)"
   ]
  },
  {
   "cell_type": "code",
   "execution_count": 14,
   "metadata": {},
   "outputs": [
    {
     "data": {
      "text/plain": [
       "(3173, 3)"
      ]
     },
     "execution_count": 14,
     "metadata": {},
     "output_type": "execute_result"
    }
   ],
   "source": [
    "elon.shape"
   ]
  },
  {
   "cell_type": "code",
   "execution_count": 15,
   "metadata": {},
   "outputs": [
    {
     "data": {
      "text/plain": [
       "(1470, 3)"
      ]
     },
     "execution_count": 15,
     "metadata": {},
     "output_type": "execute_result"
    }
   ],
   "source": [
    "bored_elon.shape"
   ]
  },
  {
   "cell_type": "code",
   "execution_count": 10,
   "metadata": {},
   "outputs": [
    {
     "data": {
      "text/html": [
       "<div>\n",
       "<style>\n",
       "    .dataframe thead tr:only-child th {\n",
       "        text-align: right;\n",
       "    }\n",
       "\n",
       "    .dataframe thead th {\n",
       "        text-align: left;\n",
       "    }\n",
       "\n",
       "    .dataframe tbody tr th {\n",
       "        vertical-align: top;\n",
       "    }\n",
       "</style>\n",
       "<table border=\"1\" class=\"dataframe\">\n",
       "  <thead>\n",
       "    <tr style=\"text-align: right;\">\n",
       "      <th></th>\n",
       "      <th>Tweet</th>\n",
       "      <th>Date</th>\n",
       "      <th>Retweets</th>\n",
       "    </tr>\n",
       "  </thead>\n",
       "  <tbody>\n",
       "    <tr>\n",
       "      <th>0</th>\n",
       "      <td>@RanNatanzon @Tesla @Cortica This is completel...</td>\n",
       "      <td>Tue Mar 20 18:47:20 +0000 2018</td>\n",
       "      <td>195</td>\n",
       "    </tr>\n",
       "    <tr>\n",
       "      <th>1</th>\n",
       "      <td>Paid respects to Masada earlier today. Live fr...</td>\n",
       "      <td>Tue Mar 20 02:20:29 +0000 2018</td>\n",
       "      <td>844</td>\n",
       "    </tr>\n",
       "    <tr>\n",
       "      <th>2</th>\n",
       "      <td>Learning how to pour flaming absinthe over a t...</td>\n",
       "      <td>Mon Mar 19 18:09:26 +0000 2018</td>\n",
       "      <td>970</td>\n",
       "    </tr>\n",
       "    <tr>\n",
       "      <th>3</th>\n",
       "      <td>@IraEhrenpreis @Tesla Thanks for your support ...</td>\n",
       "      <td>Sun Mar 18 04:31:53 +0000 2018</td>\n",
       "      <td>157</td>\n",
       "    </tr>\n",
       "    <tr>\n",
       "      <th>4</th>\n",
       "      <td>@TheOnion Your cruel taunts cut me deep. Deep....</td>\n",
       "      <td>Thu Mar 15 18:46:45 +0000 2018</td>\n",
       "      <td>465</td>\n",
       "    </tr>\n",
       "  </tbody>\n",
       "</table>\n",
       "</div>"
      ],
      "text/plain": [
       "                                               Tweet  \\\n",
       "0  @RanNatanzon @Tesla @Cortica This is completel...   \n",
       "1  Paid respects to Masada earlier today. Live fr...   \n",
       "2  Learning how to pour flaming absinthe over a t...   \n",
       "3  @IraEhrenpreis @Tesla Thanks for your support ...   \n",
       "4  @TheOnion Your cruel taunts cut me deep. Deep....   \n",
       "\n",
       "                             Date Retweets  \n",
       "0  Tue Mar 20 18:47:20 +0000 2018      195  \n",
       "1  Tue Mar 20 02:20:29 +0000 2018      844  \n",
       "2  Mon Mar 19 18:09:26 +0000 2018      970  \n",
       "3  Sun Mar 18 04:31:53 +0000 2018      157  \n",
       "4  Thu Mar 15 18:46:45 +0000 2018      465  "
      ]
     },
     "execution_count": 10,
     "metadata": {},
     "output_type": "execute_result"
    }
   ],
   "source": [
    "elon.head()"
   ]
  },
  {
   "cell_type": "code",
   "execution_count": 11,
   "metadata": {},
   "outputs": [
    {
     "data": {
      "text/html": [
       "<div>\n",
       "<style>\n",
       "    .dataframe thead tr:only-child th {\n",
       "        text-align: right;\n",
       "    }\n",
       "\n",
       "    .dataframe thead th {\n",
       "        text-align: left;\n",
       "    }\n",
       "\n",
       "    .dataframe tbody tr th {\n",
       "        vertical-align: top;\n",
       "    }\n",
       "</style>\n",
       "<table border=\"1\" class=\"dataframe\">\n",
       "  <thead>\n",
       "    <tr style=\"text-align: right;\">\n",
       "      <th></th>\n",
       "      <th>Tweet</th>\n",
       "      <th>Date</th>\n",
       "      <th>Retweets</th>\n",
       "    </tr>\n",
       "  </thead>\n",
       "  <tbody>\n",
       "    <tr>\n",
       "      <th>0</th>\n",
       "      <td>People who argue VR is more interesting than A...</td>\n",
       "      <td>Sun Mar 18 15:54:06 +0000 2018</td>\n",
       "      <td>278.0</td>\n",
       "    </tr>\n",
       "    <tr>\n",
       "      <th>1</th>\n",
       "      <td>Dashboard indicator that lets you know when a ...</td>\n",
       "      <td>Sat Mar 17 20:38:42 +0000 2018</td>\n",
       "      <td>85.0</td>\n",
       "    </tr>\n",
       "    <tr>\n",
       "      <th>2</th>\n",
       "      <td>Podcast app that scans your brain waves and pa...</td>\n",
       "      <td>Fri Mar 16 15:52:32 +0000 2018</td>\n",
       "      <td>693.0</td>\n",
       "    </tr>\n",
       "    <tr>\n",
       "      <th>3</th>\n",
       "      <td>Food delivery service that plans out your meal...</td>\n",
       "      <td>Fri Mar 09 14:16:12 +0000 2018</td>\n",
       "      <td>590.0</td>\n",
       "    </tr>\n",
       "    <tr>\n",
       "      <th>4</th>\n",
       "      <td>Vertical buildings that allow multiple people ...</td>\n",
       "      <td>Sat Mar 03 18:26:32 +0000 2018</td>\n",
       "      <td>325.0</td>\n",
       "    </tr>\n",
       "  </tbody>\n",
       "</table>\n",
       "</div>"
      ],
      "text/plain": [
       "                                               Tweet  \\\n",
       "0  People who argue VR is more interesting than A...   \n",
       "1  Dashboard indicator that lets you know when a ...   \n",
       "2  Podcast app that scans your brain waves and pa...   \n",
       "3  Food delivery service that plans out your meal...   \n",
       "4  Vertical buildings that allow multiple people ...   \n",
       "\n",
       "                             Date  Retweets  \n",
       "0  Sun Mar 18 15:54:06 +0000 2018     278.0  \n",
       "1  Sat Mar 17 20:38:42 +0000 2018      85.0  \n",
       "2  Fri Mar 16 15:52:32 +0000 2018     693.0  \n",
       "3  Fri Mar 09 14:16:12 +0000 2018     590.0  \n",
       "4  Sat Mar 03 18:26:32 +0000 2018     325.0  "
      ]
     },
     "execution_count": 11,
     "metadata": {},
     "output_type": "execute_result"
    }
   ],
   "source": [
    "bored_elon.head()"
   ]
  },
  {
   "cell_type": "markdown",
   "metadata": {},
   "source": [
    "### Clean it up and add labels"
   ]
  },
  {
   "cell_type": "code",
   "execution_count": 4,
   "metadata": {
    "collapsed": true
   },
   "outputs": [],
   "source": [
    "#remove punctuation from Tweet text\n",
    "elon['Tweet'] = elon['Tweet'].str.replace('[^\\w\\s]','')\n",
    "bored_elon['Tweet'] = bored_elon['Tweet'].str.replace('[^\\w\\s]','')\n",
    "\n",
    "#add in label columns for data\n",
    "elon['Label'] = \"Elon\"\n",
    "bored_elon['Label'] = \"BoredElon\"\n",
    "\n",
    "#join elon and bored_elon\n",
    "frames = [elon, bored_elon]\n",
    "df = pd.concat(frames)"
   ]
  },
  {
   "cell_type": "code",
   "execution_count": 5,
   "metadata": {},
   "outputs": [
    {
     "data": {
      "text/html": [
       "<div>\n",
       "<style>\n",
       "    .dataframe thead tr:only-child th {\n",
       "        text-align: right;\n",
       "    }\n",
       "\n",
       "    .dataframe thead th {\n",
       "        text-align: left;\n",
       "    }\n",
       "\n",
       "    .dataframe tbody tr th {\n",
       "        vertical-align: top;\n",
       "    }\n",
       "</style>\n",
       "<table border=\"1\" class=\"dataframe\">\n",
       "  <thead>\n",
       "    <tr style=\"text-align: right;\">\n",
       "      <th></th>\n",
       "      <th>Tweet</th>\n",
       "      <th>Date</th>\n",
       "      <th>Retweets</th>\n",
       "      <th>Label</th>\n",
       "    </tr>\n",
       "  </thead>\n",
       "  <tbody>\n",
       "    <tr>\n",
       "      <th>0</th>\n",
       "      <td>RanNatanzon Tesla Cortica This is completely f...</td>\n",
       "      <td>Tue Mar 20 18:47:20 +0000 2018</td>\n",
       "      <td>195</td>\n",
       "      <td>Elon</td>\n",
       "    </tr>\n",
       "    <tr>\n",
       "      <th>1</th>\n",
       "      <td>Paid respects to Masada earlier today Live fre...</td>\n",
       "      <td>Tue Mar 20 02:20:29 +0000 2018</td>\n",
       "      <td>844</td>\n",
       "      <td>Elon</td>\n",
       "    </tr>\n",
       "    <tr>\n",
       "      <th>2</th>\n",
       "      <td>Learning how to pour flaming absinthe over a t...</td>\n",
       "      <td>Mon Mar 19 18:09:26 +0000 2018</td>\n",
       "      <td>970</td>\n",
       "      <td>Elon</td>\n",
       "    </tr>\n",
       "    <tr>\n",
       "      <th>3</th>\n",
       "      <td>IraEhrenpreis Tesla Thanks for your support ov...</td>\n",
       "      <td>Sun Mar 18 04:31:53 +0000 2018</td>\n",
       "      <td>157</td>\n",
       "      <td>Elon</td>\n",
       "    </tr>\n",
       "    <tr>\n",
       "      <th>4</th>\n",
       "      <td>TheOnion Your cruel taunts cut me deep Deep Bu...</td>\n",
       "      <td>Thu Mar 15 18:46:45 +0000 2018</td>\n",
       "      <td>465</td>\n",
       "      <td>Elon</td>\n",
       "    </tr>\n",
       "  </tbody>\n",
       "</table>\n",
       "</div>"
      ],
      "text/plain": [
       "                                               Tweet  \\\n",
       "0  RanNatanzon Tesla Cortica This is completely f...   \n",
       "1  Paid respects to Masada earlier today Live fre...   \n",
       "2  Learning how to pour flaming absinthe over a t...   \n",
       "3  IraEhrenpreis Tesla Thanks for your support ov...   \n",
       "4  TheOnion Your cruel taunts cut me deep Deep Bu...   \n",
       "\n",
       "                             Date Retweets Label  \n",
       "0  Tue Mar 20 18:47:20 +0000 2018      195  Elon  \n",
       "1  Tue Mar 20 02:20:29 +0000 2018      844  Elon  \n",
       "2  Mon Mar 19 18:09:26 +0000 2018      970  Elon  \n",
       "3  Sun Mar 18 04:31:53 +0000 2018      157  Elon  \n",
       "4  Thu Mar 15 18:46:45 +0000 2018      465  Elon  "
      ]
     },
     "execution_count": 5,
     "metadata": {},
     "output_type": "execute_result"
    }
   ],
   "source": [
    "df.head()"
   ]
  },
  {
   "cell_type": "markdown",
   "metadata": {},
   "source": [
    "### Split the data into training and testing sets  \n",
    "##### Why do we need to split the data into training and testing sets?  \n",
    "The training dataset is used to train our classification model. While training the model, special features will be selected. The model will learn the relationship between these features and our labeled data, e.g., to what extent the words in the tweet reveal if it was written by Donald Trump or Donald Drumpf.  \n",
    "With our testing set we will test our model. Since the testing data is not labeled when we feed it to our model, we can capture the predictions made with the testing data and compare it with the actual results to gauge how well our model is performing. If we tested our model with the training data, it would likely perform very well, but would not give us much information about how well our model can generalize to data it hasn't seen before.  "
   ]
  },
  {
   "cell_type": "code",
   "execution_count": 6,
   "metadata": {
    "collapsed": true
   },
   "outputs": [],
   "source": [
    "from sklearn.model_selection import train_test_split\n",
    "X_train, X_test, y_train, y_test = train_test_split(df['Tweet'], df['Label'], test_size=0.25, random_state=42, stratify=df['Label'])"
   ]
  },
  {
   "cell_type": "markdown",
   "metadata": {},
   "source": [
    "### Create text features from the tweets  \n",
    "Working with text data isn't easy business. The lengths of the tweets are different, and they are filled with lots of words that probably won't give us much information about the author.  For this reason, we will remove any stop words (the, a, on, at, to) from our data.  \n",
    "\n",
    "The TfidfVectorizer will take our tweet data and put it into matrix format. Each tweet will correspond to a row, and each feature will correspond to a column. The feature could be a word or sequence of words together. One way of filling in the matrix is by having each entry in the matrix correspond to the frequency of that word in a given tweet. But that probably can't capture the uniqueness of an individual's writing style among their entire tweets. Here's where tf-idf comes in. Instead of having each entry in the matrix correspond to the frequency of a word or sequence of words in a tweet, we will have each entry correspond to its tf-idf value. This is computed as follows:    \n",
    "TF(t) = (Number of times term t appears in a tweet) / (Total number of terms in the tweet)    \n",
    "IDF(t) = log_e(Total number of tweets / Number of tweets with term t in it)  \n",
    "The final value is just TF(t) * IDF(t)  "
   ]
  },
  {
   "cell_type": "code",
   "execution_count": 12,
   "metadata": {
    "collapsed": true
   },
   "outputs": [],
   "source": [
    "#create Tfidf matrix\n",
    "\n",
    "\n",
    "#transforming X_train, X_test and into dataframes\n",
    "\n"
   ]
  },
  {
   "cell_type": "code",
   "execution_count": 2,
   "metadata": {
    "collapsed": true
   },
   "outputs": [],
   "source": [
    "#view the column features\n"
   ]
  },
  {
   "cell_type": "code",
   "execution_count": 3,
   "metadata": {
    "collapsed": true
   },
   "outputs": [],
   "source": [
    "#view the transformed data  \n"
   ]
  },
  {
   "cell_type": "markdown",
   "metadata": {},
   "source": [
    "### Fit the data to a logistic regression and output the results  "
   ]
  },
  {
   "cell_type": "code",
   "execution_count": 4,
   "metadata": {
    "collapsed": true
   },
   "outputs": [],
   "source": [
    "# Setup logistic regression and score train set\n",
    "\n"
   ]
  },
  {
   "cell_type": "code",
   "execution_count": 6,
   "metadata": {
    "collapsed": true
   },
   "outputs": [],
   "source": [
    "#try out logistic regression on test set\n"
   ]
  },
  {
   "cell_type": "code",
   "execution_count": 7,
   "metadata": {
    "collapsed": true
   },
   "outputs": [],
   "source": [
    "#print classification report\n",
    "\n"
   ]
  },
  {
   "cell_type": "markdown",
   "metadata": {},
   "source": [
    "#### We're done! You've created your first tweet classifier!  \n",
    "Now that you're a machine learning pro, how could you bump up the accuracy? Would you try different features, or a different model? Experiment and include your results in the cells below.  "
   ]
  },
  {
   "cell_type": "code",
   "execution_count": null,
   "metadata": {
    "collapsed": true
   },
   "outputs": [],
   "source": []
  },
  {
   "cell_type": "code",
   "execution_count": null,
   "metadata": {
    "collapsed": true
   },
   "outputs": [],
   "source": []
  },
  {
   "cell_type": "code",
   "execution_count": null,
   "metadata": {
    "collapsed": true
   },
   "outputs": [],
   "source": []
  },
  {
   "cell_type": "code",
   "execution_count": null,
   "metadata": {
    "collapsed": true
   },
   "outputs": [],
   "source": []
  },
  {
   "cell_type": "markdown",
   "metadata": {},
   "source": [
    "### Experiment using an alternative dataset below"
   ]
  },
  {
   "cell_type": "code",
   "execution_count": null,
   "metadata": {
    "collapsed": true
   },
   "outputs": [],
   "source": []
  }
 ],
 "metadata": {
  "kernelspec": {
   "display_name": "Python 3",
   "language": "python",
   "name": "python3"
  },
  "language_info": {
   "codemirror_mode": {
    "name": "ipython",
    "version": 3
   },
   "file_extension": ".py",
   "mimetype": "text/x-python",
   "name": "python",
   "nbconvert_exporter": "python",
   "pygments_lexer": "ipython3",
   "version": "3.6.3"
  }
 },
 "nbformat": 4,
 "nbformat_minor": 2
}
