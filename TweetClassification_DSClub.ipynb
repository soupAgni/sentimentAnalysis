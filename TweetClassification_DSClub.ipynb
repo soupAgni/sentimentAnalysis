{
 "cells": [
  {
   "cell_type": "markdown",
   "metadata": {},
   "source": [
    "### Setup"
   ]
  },
  {
   "cell_type": "code",
   "execution_count": 1,
   "metadata": {
    "collapsed": true
   },
   "outputs": [],
   "source": [
    "import pandas as pd\n",
    "import numpy as np\n",
    "from sklearn.feature_extraction.text import CountVectorizer"
   ]
  },
  {
   "cell_type": "markdown",
   "metadata": {},
   "source": [
    "### Read in data"
   ]
  },
  {
   "cell_type": "code",
   "execution_count": 2,
   "metadata": {
    "collapsed": true
   },
   "outputs": [],
   "source": [
    "elon = pd.read_csv('elon_data.csv',parse_dates=[0], infer_datetime_format=True)\n",
    "elon = elon.drop(['Unnamed: 0'], axis=1)\n",
    "elon = elon.dropna(axis=0)\n",
    "bored_elon = pd.read_csv('bored_elon_data.csv',parse_dates=[0], infer_datetime_format=True)\n",
    "bored_elon = bored_elon.drop(['Unnamed: 0'], axis=1)\n",
    "bored_elon = bored_elon.dropna(axis=0)"
   ]
  },
  {
   "cell_type": "code",
   "execution_count": 3,
   "metadata": {},
   "outputs": [
    {
     "data": {
      "text/html": [
       "<div>\n",
       "<style>\n",
       "    .dataframe thead tr:only-child th {\n",
       "        text-align: right;\n",
       "    }\n",
       "\n",
       "    .dataframe thead th {\n",
       "        text-align: left;\n",
       "    }\n",
       "\n",
       "    .dataframe tbody tr th {\n",
       "        vertical-align: top;\n",
       "    }\n",
       "</style>\n",
       "<table border=\"1\" class=\"dataframe\">\n",
       "  <thead>\n",
       "    <tr style=\"text-align: right;\">\n",
       "      <th></th>\n",
       "      <th>Tweet</th>\n",
       "      <th>Date</th>\n",
       "      <th>Retweets</th>\n",
       "    </tr>\n",
       "  </thead>\n",
       "  <tbody>\n",
       "    <tr>\n",
       "      <th>0</th>\n",
       "      <td>@RanNatanzon @Tesla @Cortica This is completel...</td>\n",
       "      <td>Tue Mar 20 18:47:20 +0000 2018</td>\n",
       "      <td>195</td>\n",
       "    </tr>\n",
       "    <tr>\n",
       "      <th>1</th>\n",
       "      <td>Paid respects to Masada earlier today. Live fr...</td>\n",
       "      <td>Tue Mar 20 02:20:29 +0000 2018</td>\n",
       "      <td>844</td>\n",
       "    </tr>\n",
       "    <tr>\n",
       "      <th>2</th>\n",
       "      <td>Learning how to pour flaming absinthe over a t...</td>\n",
       "      <td>Mon Mar 19 18:09:26 +0000 2018</td>\n",
       "      <td>970</td>\n",
       "    </tr>\n",
       "    <tr>\n",
       "      <th>3</th>\n",
       "      <td>@IraEhrenpreis @Tesla Thanks for your support ...</td>\n",
       "      <td>Sun Mar 18 04:31:53 +0000 2018</td>\n",
       "      <td>157</td>\n",
       "    </tr>\n",
       "    <tr>\n",
       "      <th>4</th>\n",
       "      <td>@TheOnion Your cruel taunts cut me deep. Deep....</td>\n",
       "      <td>Thu Mar 15 18:46:45 +0000 2018</td>\n",
       "      <td>465</td>\n",
       "    </tr>\n",
       "  </tbody>\n",
       "</table>\n",
       "</div>"
      ],
      "text/plain": [
       "                                               Tweet  \\\n",
       "0  @RanNatanzon @Tesla @Cortica This is completel...   \n",
       "1  Paid respects to Masada earlier today. Live fr...   \n",
       "2  Learning how to pour flaming absinthe over a t...   \n",
       "3  @IraEhrenpreis @Tesla Thanks for your support ...   \n",
       "4  @TheOnion Your cruel taunts cut me deep. Deep....   \n",
       "\n",
       "                             Date Retweets  \n",
       "0  Tue Mar 20 18:47:20 +0000 2018      195  \n",
       "1  Tue Mar 20 02:20:29 +0000 2018      844  \n",
       "2  Mon Mar 19 18:09:26 +0000 2018      970  \n",
       "3  Sun Mar 18 04:31:53 +0000 2018      157  \n",
       "4  Thu Mar 15 18:46:45 +0000 2018      465  "
      ]
     },
     "execution_count": 3,
     "metadata": {},
     "output_type": "execute_result"
    }
   ],
   "source": [
    "elon.head()"
   ]
  },
  {
   "cell_type": "markdown",
   "metadata": {},
   "source": [
    "### Clean it up"
   ]
  },
  {
   "cell_type": "code",
   "execution_count": 4,
   "metadata": {
    "collapsed": true
   },
   "outputs": [],
   "source": [
    "#remove punctuation from Tweet text\n",
    "elon['Tweet'] = elon['Tweet'].str.replace('[^\\w\\s]','')\n",
    "bored_elon['Tweet'] = bored_elon['Tweet'].str.replace('[^\\w\\s]','')\n",
    "\n",
    "#add in label columns for data\n",
    "elon['Label'] = \"Elon\"\n",
    "bored_elon['Label'] = \"BoredElon\"\n",
    "\n",
    "#join elon and bored_elon\n",
    "frames = [elon, bored_elon]\n",
    "df = pd.concat(frames)"
   ]
  },
  {
   "cell_type": "code",
   "execution_count": 5,
   "metadata": {},
   "outputs": [
    {
     "data": {
      "text/html": [
       "<div>\n",
       "<style>\n",
       "    .dataframe thead tr:only-child th {\n",
       "        text-align: right;\n",
       "    }\n",
       "\n",
       "    .dataframe thead th {\n",
       "        text-align: left;\n",
       "    }\n",
       "\n",
       "    .dataframe tbody tr th {\n",
       "        vertical-align: top;\n",
       "    }\n",
       "</style>\n",
       "<table border=\"1\" class=\"dataframe\">\n",
       "  <thead>\n",
       "    <tr style=\"text-align: right;\">\n",
       "      <th></th>\n",
       "      <th>Tweet</th>\n",
       "      <th>Date</th>\n",
       "      <th>Retweets</th>\n",
       "      <th>Label</th>\n",
       "    </tr>\n",
       "  </thead>\n",
       "  <tbody>\n",
       "    <tr>\n",
       "      <th>0</th>\n",
       "      <td>RanNatanzon Tesla Cortica This is completely f...</td>\n",
       "      <td>Tue Mar 20 18:47:20 +0000 2018</td>\n",
       "      <td>195</td>\n",
       "      <td>Elon</td>\n",
       "    </tr>\n",
       "    <tr>\n",
       "      <th>1</th>\n",
       "      <td>Paid respects to Masada earlier today Live fre...</td>\n",
       "      <td>Tue Mar 20 02:20:29 +0000 2018</td>\n",
       "      <td>844</td>\n",
       "      <td>Elon</td>\n",
       "    </tr>\n",
       "    <tr>\n",
       "      <th>2</th>\n",
       "      <td>Learning how to pour flaming absinthe over a t...</td>\n",
       "      <td>Mon Mar 19 18:09:26 +0000 2018</td>\n",
       "      <td>970</td>\n",
       "      <td>Elon</td>\n",
       "    </tr>\n",
       "    <tr>\n",
       "      <th>3</th>\n",
       "      <td>IraEhrenpreis Tesla Thanks for your support ov...</td>\n",
       "      <td>Sun Mar 18 04:31:53 +0000 2018</td>\n",
       "      <td>157</td>\n",
       "      <td>Elon</td>\n",
       "    </tr>\n",
       "    <tr>\n",
       "      <th>4</th>\n",
       "      <td>TheOnion Your cruel taunts cut me deep Deep Bu...</td>\n",
       "      <td>Thu Mar 15 18:46:45 +0000 2018</td>\n",
       "      <td>465</td>\n",
       "      <td>Elon</td>\n",
       "    </tr>\n",
       "  </tbody>\n",
       "</table>\n",
       "</div>"
      ],
      "text/plain": [
       "                                               Tweet  \\\n",
       "0  RanNatanzon Tesla Cortica This is completely f...   \n",
       "1  Paid respects to Masada earlier today Live fre...   \n",
       "2  Learning how to pour flaming absinthe over a t...   \n",
       "3  IraEhrenpreis Tesla Thanks for your support ov...   \n",
       "4  TheOnion Your cruel taunts cut me deep Deep Bu...   \n",
       "\n",
       "                             Date Retweets Label  \n",
       "0  Tue Mar 20 18:47:20 +0000 2018      195  Elon  \n",
       "1  Tue Mar 20 02:20:29 +0000 2018      844  Elon  \n",
       "2  Mon Mar 19 18:09:26 +0000 2018      970  Elon  \n",
       "3  Sun Mar 18 04:31:53 +0000 2018      157  Elon  \n",
       "4  Thu Mar 15 18:46:45 +0000 2018      465  Elon  "
      ]
     },
     "execution_count": 5,
     "metadata": {},
     "output_type": "execute_result"
    }
   ],
   "source": [
    "df.head()"
   ]
  },
  {
   "cell_type": "markdown",
   "metadata": {},
   "source": [
    "### Split the data into training and testing sets"
   ]
  },
  {
   "cell_type": "code",
   "execution_count": 6,
   "metadata": {
    "collapsed": true
   },
   "outputs": [],
   "source": [
    "from sklearn.model_selection import train_test_split\n",
    "X_train, X_test, y_train, y_test = train_test_split(df['Tweet'], df['Label'], test_size=0.25, random_state=42, stratify=df['Label'])"
   ]
  },
  {
   "cell_type": "markdown",
   "metadata": {},
   "source": [
    "### Create text features from the tweets"
   ]
  },
  {
   "cell_type": "code",
   "execution_count": null,
   "metadata": {
    "collapsed": true
   },
   "outputs": [],
   "source": []
  },
  {
   "cell_type": "markdown",
   "metadata": {},
   "source": [
    "### Fit the data to a logistic regression and output the results"
   ]
  },
  {
   "cell_type": "code",
   "execution_count": null,
   "metadata": {
    "collapsed": true
   },
   "outputs": [],
   "source": []
  }
 ],
 "metadata": {
  "kernelspec": {
   "display_name": "Python 3",
   "language": "python",
   "name": "python3"
  },
  "language_info": {
   "codemirror_mode": {
    "name": "ipython",
    "version": 3
   },
   "file_extension": ".py",
   "mimetype": "text/x-python",
   "name": "python",
   "nbconvert_exporter": "python",
   "pygments_lexer": "ipython3",
   "version": "3.6.3"
  }
 },
 "nbformat": 4,
 "nbformat_minor": 2
}
