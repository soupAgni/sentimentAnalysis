{
 "cells": [
  {
   "cell_type": "markdown",
   "metadata": {},
   "source": [
    "### Setup"
   ]
  },
  {
   "cell_type": "code",
   "execution_count": 1,
   "metadata": {
    "collapsed": true
   },
   "outputs": [],
   "source": [
    "import pandas as pd\n",
    "import numpy as np\n",
    "import nltk\n",
    "from nltk import word_tokenize\n",
    "from nltk.util import ngrams\n",
    "from collections import Counter\n",
    "from sklearn.feature_extraction.text import CountVectorizer"
   ]
  },
  {
   "cell_type": "markdown",
   "metadata": {},
   "source": [
    "### Read in data"
   ]
  },
  {
   "cell_type": "code",
   "execution_count": 2,
   "metadata": {
    "collapsed": true
   },
   "outputs": [],
   "source": [
    "elon = pd.read_csv('elon_data.csv',parse_dates=[0], infer_datetime_format=True)\n",
    "elon = elon.drop(['Unnamed: 0'], axis=1)\n",
    "elon = elon.dropna(axis=0)\n",
    "bored_elon = pd.read_csv('bored_elon_data.csv',parse_dates=[0], infer_datetime_format=True)\n",
    "bored_elon = bored_elon.drop(['Unnamed: 0'], axis=1)\n",
    "bored_elon = bored_elon.dropna(axis=0)"
   ]
  },
  {
   "cell_type": "code",
   "execution_count": 3,
   "metadata": {},
   "outputs": [
    {
     "data": {
      "text/html": [
       "<div>\n",
       "<style>\n",
       "    .dataframe thead tr:only-child th {\n",
       "        text-align: right;\n",
       "    }\n",
       "\n",
       "    .dataframe thead th {\n",
       "        text-align: left;\n",
       "    }\n",
       "\n",
       "    .dataframe tbody tr th {\n",
       "        vertical-align: top;\n",
       "    }\n",
       "</style>\n",
       "<table border=\"1\" class=\"dataframe\">\n",
       "  <thead>\n",
       "    <tr style=\"text-align: right;\">\n",
       "      <th></th>\n",
       "      <th>Tweet</th>\n",
       "      <th>Date</th>\n",
       "      <th>Retweets</th>\n",
       "    </tr>\n",
       "  </thead>\n",
       "  <tbody>\n",
       "    <tr>\n",
       "      <th>0</th>\n",
       "      <td>@RanNatanzon @Tesla @Cortica This is completel...</td>\n",
       "      <td>Tue Mar 20 18:47:20 +0000 2018</td>\n",
       "      <td>195</td>\n",
       "    </tr>\n",
       "    <tr>\n",
       "      <th>1</th>\n",
       "      <td>Paid respects to Masada earlier today. Live fr...</td>\n",
       "      <td>Tue Mar 20 02:20:29 +0000 2018</td>\n",
       "      <td>844</td>\n",
       "    </tr>\n",
       "    <tr>\n",
       "      <th>2</th>\n",
       "      <td>Learning how to pour flaming absinthe over a t...</td>\n",
       "      <td>Mon Mar 19 18:09:26 +0000 2018</td>\n",
       "      <td>970</td>\n",
       "    </tr>\n",
       "    <tr>\n",
       "      <th>3</th>\n",
       "      <td>@IraEhrenpreis @Tesla Thanks for your support ...</td>\n",
       "      <td>Sun Mar 18 04:31:53 +0000 2018</td>\n",
       "      <td>157</td>\n",
       "    </tr>\n",
       "    <tr>\n",
       "      <th>4</th>\n",
       "      <td>@TheOnion Your cruel taunts cut me deep. Deep....</td>\n",
       "      <td>Thu Mar 15 18:46:45 +0000 2018</td>\n",
       "      <td>465</td>\n",
       "    </tr>\n",
       "  </tbody>\n",
       "</table>\n",
       "</div>"
      ],
      "text/plain": [
       "                                               Tweet  \\\n",
       "0  @RanNatanzon @Tesla @Cortica This is completel...   \n",
       "1  Paid respects to Masada earlier today. Live fr...   \n",
       "2  Learning how to pour flaming absinthe over a t...   \n",
       "3  @IraEhrenpreis @Tesla Thanks for your support ...   \n",
       "4  @TheOnion Your cruel taunts cut me deep. Deep....   \n",
       "\n",
       "                             Date Retweets  \n",
       "0  Tue Mar 20 18:47:20 +0000 2018      195  \n",
       "1  Tue Mar 20 02:20:29 +0000 2018      844  \n",
       "2  Mon Mar 19 18:09:26 +0000 2018      970  \n",
       "3  Sun Mar 18 04:31:53 +0000 2018      157  \n",
       "4  Thu Mar 15 18:46:45 +0000 2018      465  "
      ]
     },
     "execution_count": 3,
     "metadata": {},
     "output_type": "execute_result"
    }
   ],
   "source": [
    "elon.head()"
   ]
  },
  {
   "cell_type": "markdown",
   "metadata": {},
   "source": [
    "### Clean it up"
   ]
  },
  {
   "cell_type": "code",
   "execution_count": 4,
   "metadata": {
    "collapsed": true
   },
   "outputs": [],
   "source": [
    "#remove punctuation from Tweet text\n",
    "elon['Tweet'] = elon['Tweet'].str.replace('[^\\w\\s]','')\n",
    "bored_elon['Tweet'] = bored_elon['Tweet'].str.replace('[^\\w\\s]','')\n",
    "\n",
    "#add in label columns for data\n",
    "elon['Label'] = \"Elon\"\n",
    "bored_elon['Label'] = \"BoredElon\"\n",
    "\n",
    "#join elon and bored_elon\n",
    "frames = [elon, bored_elon]\n",
    "df = pd.concat(frames)"
   ]
  },
  {
   "cell_type": "code",
   "execution_count": 5,
   "metadata": {},
   "outputs": [
    {
     "data": {
      "text/html": [
       "<div>\n",
       "<style>\n",
       "    .dataframe thead tr:only-child th {\n",
       "        text-align: right;\n",
       "    }\n",
       "\n",
       "    .dataframe thead th {\n",
       "        text-align: left;\n",
       "    }\n",
       "\n",
       "    .dataframe tbody tr th {\n",
       "        vertical-align: top;\n",
       "    }\n",
       "</style>\n",
       "<table border=\"1\" class=\"dataframe\">\n",
       "  <thead>\n",
       "    <tr style=\"text-align: right;\">\n",
       "      <th></th>\n",
       "      <th>Tweet</th>\n",
       "      <th>Date</th>\n",
       "      <th>Retweets</th>\n",
       "      <th>Label</th>\n",
       "    </tr>\n",
       "  </thead>\n",
       "  <tbody>\n",
       "    <tr>\n",
       "      <th>0</th>\n",
       "      <td>RanNatanzon Tesla Cortica This is completely f...</td>\n",
       "      <td>Tue Mar 20 18:47:20 +0000 2018</td>\n",
       "      <td>195</td>\n",
       "      <td>Elon</td>\n",
       "    </tr>\n",
       "    <tr>\n",
       "      <th>1</th>\n",
       "      <td>Paid respects to Masada earlier today Live fre...</td>\n",
       "      <td>Tue Mar 20 02:20:29 +0000 2018</td>\n",
       "      <td>844</td>\n",
       "      <td>Elon</td>\n",
       "    </tr>\n",
       "    <tr>\n",
       "      <th>2</th>\n",
       "      <td>Learning how to pour flaming absinthe over a t...</td>\n",
       "      <td>Mon Mar 19 18:09:26 +0000 2018</td>\n",
       "      <td>970</td>\n",
       "      <td>Elon</td>\n",
       "    </tr>\n",
       "    <tr>\n",
       "      <th>3</th>\n",
       "      <td>IraEhrenpreis Tesla Thanks for your support ov...</td>\n",
       "      <td>Sun Mar 18 04:31:53 +0000 2018</td>\n",
       "      <td>157</td>\n",
       "      <td>Elon</td>\n",
       "    </tr>\n",
       "    <tr>\n",
       "      <th>4</th>\n",
       "      <td>TheOnion Your cruel taunts cut me deep Deep Bu...</td>\n",
       "      <td>Thu Mar 15 18:46:45 +0000 2018</td>\n",
       "      <td>465</td>\n",
       "      <td>Elon</td>\n",
       "    </tr>\n",
       "  </tbody>\n",
       "</table>\n",
       "</div>"
      ],
      "text/plain": [
       "                                               Tweet  \\\n",
       "0  RanNatanzon Tesla Cortica This is completely f...   \n",
       "1  Paid respects to Masada earlier today Live fre...   \n",
       "2  Learning how to pour flaming absinthe over a t...   \n",
       "3  IraEhrenpreis Tesla Thanks for your support ov...   \n",
       "4  TheOnion Your cruel taunts cut me deep Deep Bu...   \n",
       "\n",
       "                             Date Retweets Label  \n",
       "0  Tue Mar 20 18:47:20 +0000 2018      195  Elon  \n",
       "1  Tue Mar 20 02:20:29 +0000 2018      844  Elon  \n",
       "2  Mon Mar 19 18:09:26 +0000 2018      970  Elon  \n",
       "3  Sun Mar 18 04:31:53 +0000 2018      157  Elon  \n",
       "4  Thu Mar 15 18:46:45 +0000 2018      465  Elon  "
      ]
     },
     "execution_count": 5,
     "metadata": {},
     "output_type": "execute_result"
    }
   ],
   "source": [
    "df.head()"
   ]
  },
  {
   "cell_type": "markdown",
   "metadata": {},
   "source": [
    "### Split the data into training and testing sets"
   ]
  },
  {
   "cell_type": "code",
   "execution_count": 6,
   "metadata": {
    "collapsed": true
   },
   "outputs": [],
   "source": [
    "from sklearn.model_selection import train_test_split\n",
    "X_train, X_test, y_train, y_test = train_test_split(df['Tweet'], df['Label'], test_size=0.25, random_state=42, stratify=df['Label'])"
   ]
  },
  {
   "cell_type": "markdown",
   "metadata": {},
   "source": [
    "### Create text features from the tweets"
   ]
  },
  {
   "cell_type": "code",
   "execution_count": 7,
   "metadata": {
    "collapsed": true
   },
   "outputs": [],
   "source": [
    "from sklearn.feature_extraction.text import TfidfVectorizer\n",
    "tvec = TfidfVectorizer(stop_words='english',ngram_range=(1, 4), min_df = .02, max_df=.95)\n",
    "tvec.fit(X_train)\n",
    "\n",
    "#transforming X_train, X_test and hold_out into dataframes\n",
    "tweet_train = pd.DataFrame(tvec.transform(X_train).todense(), columns = tvec.get_feature_names())\n",
    "tweet_test = pd.DataFrame(tvec.transform(X_test).todense(), columns = tvec.get_feature_names())\n"
   ]
  },
  {
   "cell_type": "code",
   "execution_count": 8,
   "metadata": {},
   "outputs": [
    {
     "data": {
      "text/plain": [
       "Index(['amp', 'car', 'dont', 'falcon', 'good', 'just', 'launch', 'like',\n",
       "       'model', 'new', 'people', 'rocket', 'rt', 'rt spacex', 'spacex',\n",
       "       'tesla', 'teslamotors', 'time', 'yes'],\n",
       "      dtype='object')"
      ]
     },
     "execution_count": 8,
     "metadata": {},
     "output_type": "execute_result"
    }
   ],
   "source": [
    "tweet_train.columns"
   ]
  },
  {
   "cell_type": "code",
   "execution_count": 12,
   "metadata": {},
   "outputs": [
    {
     "data": {
      "text/html": [
       "<div>\n",
       "<style>\n",
       "    .dataframe thead tr:only-child th {\n",
       "        text-align: right;\n",
       "    }\n",
       "\n",
       "    .dataframe thead th {\n",
       "        text-align: left;\n",
       "    }\n",
       "\n",
       "    .dataframe tbody tr th {\n",
       "        vertical-align: top;\n",
       "    }\n",
       "</style>\n",
       "<table border=\"1\" class=\"dataframe\">\n",
       "  <thead>\n",
       "    <tr style=\"text-align: right;\">\n",
       "      <th></th>\n",
       "      <th>amp</th>\n",
       "      <th>car</th>\n",
       "      <th>dont</th>\n",
       "      <th>falcon</th>\n",
       "      <th>good</th>\n",
       "      <th>just</th>\n",
       "      <th>launch</th>\n",
       "      <th>like</th>\n",
       "      <th>model</th>\n",
       "      <th>new</th>\n",
       "      <th>people</th>\n",
       "      <th>rocket</th>\n",
       "      <th>rt</th>\n",
       "      <th>rt spacex</th>\n",
       "      <th>spacex</th>\n",
       "      <th>tesla</th>\n",
       "      <th>teslamotors</th>\n",
       "      <th>time</th>\n",
       "      <th>yes</th>\n",
       "    </tr>\n",
       "  </thead>\n",
       "  <tbody>\n",
       "    <tr>\n",
       "      <th>0</th>\n",
       "      <td>0.0</td>\n",
       "      <td>0.0</td>\n",
       "      <td>0.0</td>\n",
       "      <td>0.0</td>\n",
       "      <td>0.0</td>\n",
       "      <td>0.0</td>\n",
       "      <td>0.0</td>\n",
       "      <td>0.0</td>\n",
       "      <td>0.0</td>\n",
       "      <td>0.0</td>\n",
       "      <td>0.0</td>\n",
       "      <td>0.0</td>\n",
       "      <td>0.0</td>\n",
       "      <td>0.0</td>\n",
       "      <td>0.0</td>\n",
       "      <td>0.0</td>\n",
       "      <td>0.0</td>\n",
       "      <td>0.0</td>\n",
       "      <td>0.0</td>\n",
       "    </tr>\n",
       "    <tr>\n",
       "      <th>1</th>\n",
       "      <td>0.0</td>\n",
       "      <td>0.0</td>\n",
       "      <td>0.0</td>\n",
       "      <td>0.0</td>\n",
       "      <td>0.0</td>\n",
       "      <td>0.0</td>\n",
       "      <td>0.0</td>\n",
       "      <td>0.0</td>\n",
       "      <td>0.0</td>\n",
       "      <td>0.0</td>\n",
       "      <td>0.0</td>\n",
       "      <td>0.0</td>\n",
       "      <td>0.0</td>\n",
       "      <td>0.0</td>\n",
       "      <td>0.0</td>\n",
       "      <td>0.0</td>\n",
       "      <td>0.0</td>\n",
       "      <td>0.0</td>\n",
       "      <td>0.0</td>\n",
       "    </tr>\n",
       "    <tr>\n",
       "      <th>2</th>\n",
       "      <td>0.0</td>\n",
       "      <td>0.0</td>\n",
       "      <td>0.0</td>\n",
       "      <td>1.0</td>\n",
       "      <td>0.0</td>\n",
       "      <td>0.0</td>\n",
       "      <td>0.0</td>\n",
       "      <td>0.0</td>\n",
       "      <td>0.0</td>\n",
       "      <td>0.0</td>\n",
       "      <td>0.0</td>\n",
       "      <td>0.0</td>\n",
       "      <td>0.0</td>\n",
       "      <td>0.0</td>\n",
       "      <td>0.0</td>\n",
       "      <td>0.0</td>\n",
       "      <td>0.0</td>\n",
       "      <td>0.0</td>\n",
       "      <td>0.0</td>\n",
       "    </tr>\n",
       "    <tr>\n",
       "      <th>3</th>\n",
       "      <td>0.0</td>\n",
       "      <td>0.0</td>\n",
       "      <td>0.0</td>\n",
       "      <td>0.0</td>\n",
       "      <td>0.0</td>\n",
       "      <td>0.0</td>\n",
       "      <td>0.0</td>\n",
       "      <td>0.0</td>\n",
       "      <td>0.0</td>\n",
       "      <td>0.0</td>\n",
       "      <td>0.0</td>\n",
       "      <td>0.0</td>\n",
       "      <td>1.0</td>\n",
       "      <td>0.0</td>\n",
       "      <td>0.0</td>\n",
       "      <td>0.0</td>\n",
       "      <td>0.0</td>\n",
       "      <td>0.0</td>\n",
       "      <td>0.0</td>\n",
       "    </tr>\n",
       "    <tr>\n",
       "      <th>4</th>\n",
       "      <td>0.0</td>\n",
       "      <td>0.0</td>\n",
       "      <td>0.0</td>\n",
       "      <td>0.0</td>\n",
       "      <td>0.0</td>\n",
       "      <td>0.0</td>\n",
       "      <td>0.0</td>\n",
       "      <td>0.0</td>\n",
       "      <td>0.0</td>\n",
       "      <td>0.0</td>\n",
       "      <td>0.0</td>\n",
       "      <td>0.0</td>\n",
       "      <td>0.0</td>\n",
       "      <td>0.0</td>\n",
       "      <td>0.0</td>\n",
       "      <td>0.0</td>\n",
       "      <td>0.0</td>\n",
       "      <td>0.0</td>\n",
       "      <td>0.0</td>\n",
       "    </tr>\n",
       "  </tbody>\n",
       "</table>\n",
       "</div>"
      ],
      "text/plain": [
       "   amp  car  dont  falcon  good  just  launch  like  model  new  people  \\\n",
       "0  0.0  0.0   0.0     0.0   0.0   0.0     0.0   0.0    0.0  0.0     0.0   \n",
       "1  0.0  0.0   0.0     0.0   0.0   0.0     0.0   0.0    0.0  0.0     0.0   \n",
       "2  0.0  0.0   0.0     1.0   0.0   0.0     0.0   0.0    0.0  0.0     0.0   \n",
       "3  0.0  0.0   0.0     0.0   0.0   0.0     0.0   0.0    0.0  0.0     0.0   \n",
       "4  0.0  0.0   0.0     0.0   0.0   0.0     0.0   0.0    0.0  0.0     0.0   \n",
       "\n",
       "   rocket   rt  rt spacex  spacex  tesla  teslamotors  time  yes  \n",
       "0     0.0  0.0        0.0     0.0    0.0          0.0   0.0  0.0  \n",
       "1     0.0  0.0        0.0     0.0    0.0          0.0   0.0  0.0  \n",
       "2     0.0  0.0        0.0     0.0    0.0          0.0   0.0  0.0  \n",
       "3     0.0  1.0        0.0     0.0    0.0          0.0   0.0  0.0  \n",
       "4     0.0  0.0        0.0     0.0    0.0          0.0   0.0  0.0  "
      ]
     },
     "execution_count": 12,
     "metadata": {},
     "output_type": "execute_result"
    }
   ],
   "source": [
    "tweet_test.head()"
   ]
  },
  {
   "cell_type": "code",
   "execution_count": 10,
   "metadata": {},
   "outputs": [
    {
     "name": "stdout",
     "output_type": "stream",
     "text": [
      "Train score:  0.711085582998\n",
      "Output for Tested Model:\n",
      "Confusion Matrix of Predictions: \n",
      "[[ 51 317]\n",
      " [ 22 771]]\n",
      "Classification Matrix: \n",
      "             precision    recall  f1-score   support\n",
      "\n",
      "  BoredElon       0.70      0.14      0.23       368\n",
      "       Elon       0.71      0.97      0.82       793\n",
      "\n",
      "avg / total       0.71      0.71      0.63      1161\n",
      "\n",
      "Test score:  0.708010335917\n"
     ]
    }
   ],
   "source": [
    "from sklearn.metrics import classification_report, confusion_matrix, accuracy_score\n",
    "from sklearn.linear_model import LogisticRegression\n",
    "\n",
    "# Setup logistic regression and score train set\n",
    "logreg = LogisticRegression()\n",
    "logreg.fit(tweet_train, y_train)\n",
    "print(\"Train score: \", logreg.score(tweet_train, y_train))\n",
    "\n",
    "#using logreg on test set\n",
    "y_probs = logreg.predict(tweet_test) #predict y values for X_test\n",
    "print(\"Output for Tested Model:\")\n",
    "print(\"Confusion Matrix of Predictions: \")\n",
    "print(confusion_matrix(y_test, y_probs))\n",
    "\n",
    "#printing classification report\n",
    "print(\"Classification Matrix: \")\n",
    "print(classification_report(y_test, y_probs, target_names=[\"BoredElon\", \"Elon\"]))\n",
    "print(\"Test score: \", logreg.score(tweet_test,y_test))"
   ]
  },
  {
   "cell_type": "code",
   "execution_count": 11,
   "metadata": {},
   "outputs": [
    {
     "name": "stdout",
     "output_type": "stream",
     "text": [
      "Train score:  0.712808730615\n",
      "Output for Tested Model:\n",
      "Confusion Matrix of Predictions: \n",
      "[[ 51 317]\n",
      " [ 23 770]]\n",
      "Classification Matrix: \n",
      "             precision    recall  f1-score   support\n",
      "\n",
      "  BoredElon       0.69      0.14      0.23       368\n",
      "       Elon       0.71      0.97      0.82       793\n",
      "\n",
      "avg / total       0.70      0.71      0.63      1161\n",
      "\n",
      "Test score:  0.707149009475\n"
     ]
    }
   ],
   "source": [
    "from sklearn import svm\n",
    "# Setup svm and score train set\n",
    "clf = svm.SVC(kernel='rbf', gamma=1)\n",
    "clf.fit(tweet_train, y_train)  \n",
    "print(\"Train score: \", clf.score(tweet_train, y_train))\n",
    "\n",
    "#using logreg on test set\n",
    "y_probs = clf.predict(tweet_test) #predict y values for X_test\n",
    "print(\"Output for Tested Model:\")\n",
    "print(\"Confusion Matrix of Predictions: \")\n",
    "print(confusion_matrix(y_test, y_probs))\n",
    "\n",
    "#printing classification report\n",
    "print(\"Classification Matrix: \")\n",
    "print(classification_report(y_test, y_probs, target_names=[\"BoredElon\", \"Elon\"]))\n",
    "print(\"Test score: \", clf.score(tweet_test,y_test))"
   ]
  },
  {
   "cell_type": "code",
   "execution_count": 12,
   "metadata": {
    "collapsed": true
   },
   "outputs": [],
   "source": [
    "trump = pd.read_csv('data.csv',parse_dates=[0], infer_datetime_format=True)\n",
    "trump = trump.dropna(axis=0)\n",
    "drumpf = pd.read_csv('drumpf_data.csv',parse_dates=[0], infer_datetime_format=True)\n",
    "drumpf = drumpf.drop(['Unnamed: 3'], axis=1)\n",
    "drumpf = drumpf.drop(['Unnamed: 4'], axis=1)\n",
    "drumpf = drumpf.drop(['Unnamed: 5'], axis=1)\n",
    "drumpf = drumpf.drop(['Unnamed: 6'], axis=1)\n",
    "drumpf = drumpf.dropna(axis=0)"
   ]
  },
  {
   "cell_type": "code",
   "execution_count": 13,
   "metadata": {},
   "outputs": [
    {
     "data": {
      "text/html": [
       "<div>\n",
       "<style>\n",
       "    .dataframe thead tr:only-child th {\n",
       "        text-align: right;\n",
       "    }\n",
       "\n",
       "    .dataframe thead th {\n",
       "        text-align: left;\n",
       "    }\n",
       "\n",
       "    .dataframe tbody tr th {\n",
       "        vertical-align: top;\n",
       "    }\n",
       "</style>\n",
       "<table border=\"1\" class=\"dataframe\">\n",
       "  <thead>\n",
       "    <tr style=\"text-align: right;\">\n",
       "      <th></th>\n",
       "      <th>Tweet</th>\n",
       "      <th>Date</th>\n",
       "      <th>Retweets</th>\n",
       "    </tr>\n",
       "  </thead>\n",
       "  <tbody>\n",
       "    <tr>\n",
       "      <th>0</th>\n",
       "      <td>My lawyers keep reminding me that you cannot c...</td>\n",
       "      <td>Tue Mar 20 18:05:05 +0000 2018</td>\n",
       "      <td>8</td>\n",
       "    </tr>\n",
       "    <tr>\n",
       "      <th>1</th>\n",
       "      <td>@KimKardashian Save us!</td>\n",
       "      <td>Tue Mar 20 17:55:10 +0000 2018</td>\n",
       "      <td>0</td>\n",
       "    </tr>\n",
       "    <tr>\n",
       "      <th>2</th>\n",
       "      <td>@YaffaDina All I know is what's on the Internet</td>\n",
       "      <td>Tue Mar 20 17:54:27 +0000 2018</td>\n",
       "      <td>0</td>\n",
       "    </tr>\n",
       "    <tr>\n",
       "      <th>3</th>\n",
       "      <td>I was scared to call because I thought V. Puti...</td>\n",
       "      <td>Tue Mar 20 17:48:23 +0000 2018</td>\n",
       "      <td>12</td>\n",
       "    </tr>\n",
       "    <tr>\n",
       "      <th>4</th>\n",
       "      <td>I've been self-financing my tweets since 2013,...</td>\n",
       "      <td>Tue Mar 20 17:39:46 +0000 2018</td>\n",
       "      <td>1</td>\n",
       "    </tr>\n",
       "  </tbody>\n",
       "</table>\n",
       "</div>"
      ],
      "text/plain": [
       "                                               Tweet  \\\n",
       "0  My lawyers keep reminding me that you cannot c...   \n",
       "1                           @KimKardashian Save us!    \n",
       "2   @YaffaDina All I know is what's on the Internet    \n",
       "3  I was scared to call because I thought V. Puti...   \n",
       "4  I've been self-financing my tweets since 2013,...   \n",
       "\n",
       "                             Date Retweets  \n",
       "0  Tue Mar 20 18:05:05 +0000 2018        8  \n",
       "1  Tue Mar 20 17:55:10 +0000 2018        0  \n",
       "2  Tue Mar 20 17:54:27 +0000 2018        0  \n",
       "3  Tue Mar 20 17:48:23 +0000 2018       12  \n",
       "4  Tue Mar 20 17:39:46 +0000 2018        1  "
      ]
     },
     "execution_count": 13,
     "metadata": {},
     "output_type": "execute_result"
    }
   ],
   "source": [
    "drumpf.head()"
   ]
  },
  {
   "cell_type": "code",
   "execution_count": 14,
   "metadata": {
    "collapsed": true
   },
   "outputs": [],
   "source": [
    "#remove punctuation from Tweet text\n",
    "trump['Tweet'] = trump['Tweet'].str.replace('[^\\w\\s]','')\n",
    "drumpf['Tweet'] = drumpf['Tweet'].str.replace('[^\\w\\s]','')\n",
    "\n",
    "#add in label columns for data\n",
    "trump['Label'] = \"Trump\"\n",
    "drumpf['Label'] = \"Drumpf\"\n",
    "\n",
    "#join elon and bored_elon\n",
    "frames = [trump, drumpf]\n",
    "df2 = pd.concat(frames)"
   ]
  },
  {
   "cell_type": "code",
   "execution_count": 15,
   "metadata": {
    "collapsed": true
   },
   "outputs": [],
   "source": [
    "X_train, X_test, y_train, y_test = train_test_split(df2['Tweet'], df2['Label'], test_size=0.25, random_state=42, stratify=df2['Label'])\n",
    "tvec = TfidfVectorizer(stop_words='english',ngram_range=(1, 4), min_df = .02, max_df=.95)\n",
    "tvec.fit(X_train)\n",
    "\n",
    "#transforming X_train, X_test and hold_out into dataframes\n",
    "tweet_train = pd.DataFrame(tvec.transform(X_train).todense(), columns = tvec.get_feature_names())\n",
    "tweet_test = pd.DataFrame(tvec.transform(X_test).todense(), columns = tvec.get_feature_names())\n",
    "#tweet_holdout = pd.DataFrame(cvec.transform(hold_total[\"Tweet\"]).todense(),columns=cvec.get_feature_names())"
   ]
  },
  {
   "cell_type": "code",
   "execution_count": 16,
   "metadata": {},
   "outputs": [
    {
     "name": "stdout",
     "output_type": "stream",
     "text": [
      "Train score:  0.707094307562\n",
      "Output for Tested Model:\n",
      "Confusion Matrix of Predictions: \n",
      "[[630 162]\n",
      " [324 454]]\n",
      "Classification Matrix: \n",
      "             precision    recall  f1-score   support\n",
      "\n",
      "     Drumpf       0.66      0.80      0.72       792\n",
      "      Trump       0.74      0.58      0.65       778\n",
      "\n",
      "avg / total       0.70      0.69      0.69      1570\n",
      "\n",
      "Test score:  0.690445859873\n"
     ]
    }
   ],
   "source": [
    "# Setup logistic regression and score train set\n",
    "logreg = LogisticRegression()\n",
    "logreg.fit(tweet_train, y_train)\n",
    "print(\"Train score: \", logreg.score(tweet_train, y_train))\n",
    "\n",
    "#using logreg on test set\n",
    "y_probs = logreg.predict(tweet_test) #predict y values for X_test\n",
    "print(\"Output for Tested Model:\")\n",
    "print(\"Confusion Matrix of Predictions: \")\n",
    "print(confusion_matrix(y_test, y_probs))\n",
    "\n",
    "#printing classification report\n",
    "print(\"Classification Matrix: \")\n",
    "print(classification_report(y_test, y_probs, target_names=[\"Drumpf\", \"Trump\"]))\n",
    "print(\"Test score: \", logreg.score(tweet_test,y_test))"
   ]
  },
  {
   "cell_type": "code",
   "execution_count": null,
   "metadata": {
    "collapsed": true
   },
   "outputs": [],
   "source": []
  }
 ],
 "metadata": {
  "kernelspec": {
   "display_name": "Python 3",
   "language": "python",
   "name": "python3"
  },
  "language_info": {
   "codemirror_mode": {
    "name": "ipython",
    "version": 3
   },
   "file_extension": ".py",
   "mimetype": "text/x-python",
   "name": "python",
   "nbconvert_exporter": "python",
   "pygments_lexer": "ipython3",
   "version": "3.6.3"
  }
 },
 "nbformat": 4,
 "nbformat_minor": 2
}
